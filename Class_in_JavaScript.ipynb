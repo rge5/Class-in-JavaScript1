{
  "nbformat": 4,
  "nbformat_minor": 0,
  "metadata": {
    "colab": {
      "provenance": []
    },
    "kernelspec": {
      "name": "python3",
      "display_name": "Python 3"
    },
    "language_info": {
      "name": "python"
    }
  },
  "cells": [
    {
      "cell_type": "markdown",
      "source": [
        "1. 1.Problem Statement 1: Create a Constructor for a Person\n",
        "\n",
        "Write a JavaScript function constructor named Person that takes two parameters, name, and age, and Add a\n",
        "method to the prototype to display name and age. Then, create two instances of Person and display their\n",
        "names and ages."
      ],
      "metadata": {
        "id": "oiPwGKv0yNNl"
      }
    },
    {
      "cell_type": "code",
      "source": [
        "// Constructor function\n",
        "function Person(name, age) {\n",
        "  this.name = name;\n",
        "  this.age = age;\n",
        "}\n",
        "\n",
        "// Adding method to prototype so all instances share it\n",
        "Person.prototype.display = function () {\n",
        "  console.log(`Name: ${this.name}, Age: ${this.age}`);\n",
        "};\n",
        "\n",
        "// Create two instances\n",
        "const person1 = new Person(\"Alice\", 30);\n",
        "const person2 = new Person(\"Bob\", 25);\n",
        "\n",
        "// Display their name and age\n",
        "person1.display(); // Name: Alice, Age: 30\n",
        "person2.display(); // Name: Bob, Age: 25\n"
      ],
      "metadata": {
        "id": "Yf3MSD3fxLeU"
      },
      "execution_count": null,
      "outputs": []
    },
    {
      "cell_type": "markdown",
      "source": [
        "2.Problem Statement 2: Implement a Bank Account\n",
        "\n",
        "Create a constructor function named BankAccount that initializes a bank account with an initial balance.\n",
        "Include methods for depositing and withdrawing money from the account. Write code to demonstrate these\n",
        "operations on a bank account object."
      ],
      "metadata": {
        "id": "9I__35wXxXgL"
      }
    },
    {
      "cell_type": "code",
      "source": [
        "function BankAccount(initialBalance) {\n",
        "    this.balance = initialBalance;\n",
        "\n",
        "\n",
        "    this.deposit = function(amount) {\n",
        "        if (amount > 0) {\n",
        "            this.balance += amount;\n",
        "            console.log(`Deposited: $${amount}`);\n",
        "        } else {\n",
        "            console.log(\"Deposit amount must be positive.\");\n",
        "        }\n",
        "    };\n",
        "\n",
        "\n",
        "    this.withdraw = function(amount) {\n",
        "        if (amount > 0 && amount <= this.balance) {\n",
        "            this.balance -= amount;\n",
        "            console.log(`Withdrew: $${amount}`);\n",
        "        } else if (amount > this.balance) {\n",
        "            console.log(\"Insufficient funds.\");\n",
        "        } else {\n",
        "            console.log(\"Withdrawal amount must be positive.\");\n",
        "        }\n",
        "    };\n",
        "\n",
        "\n",
        "    this.getBalance = function() {\n",
        "        console.log(`Current Balance: $${this.balance}`);\n",
        "    };\n",
        "}\n",
        "\n",
        "\n",
        "let myAccount = new BankAccount(1000);\n",
        "\n",
        "myAccount.getBalance();\n",
        "myAccount.deposit(500);\n",
        "myAccount.getBalance();\n",
        "myAccount.withdraw(200);\n",
        "myAccount.getBalance();\n",
        "myAccount.withdraw(2000);"
      ],
      "metadata": {
        "id": "3T8EcjGfxcGc"
      },
      "execution_count": null,
      "outputs": []
    },
    {
      "cell_type": "markdown",
      "source": [
        "3. Problem Statement 3: Create a Constructor for a Book\n",
        "\n",
        "Design a constructor function called Book that takes title and author as parameters. Add a method to the\n",
        "prototype of the Book that displays the book's information. Create at least two book instances and display their\n",
        "\n",
        "information."
      ],
      "metadata": {
        "id": "v9ROGAC_xfE-"
      }
    },
    {
      "cell_type": "code",
      "source": [
        "function Book (title, author){\n",
        "    this.title = title;\n",
        "    this.author = author;\n",
        "}\n",
        "\n",
        "Book.prototype.displayInfo = function(){\n",
        "    console.log(`title: ${this.title}, Author: ${this.author}`);\n",
        "}\n",
        "\n",
        "const book1 = new Book(\"The Alchemist\", \"Paulo Coelho\");\n",
        "const book2 = new Book(\"1984\", \"George Orwell\");\n",
        "\n",
        "book1.displayInfo();\n",
        "book2.displayInfo();"
      ],
      "metadata": {
        "id": "FpF1yOQbxj_y"
      },
      "execution_count": null,
      "outputs": []
    },
    {
      "cell_type": "markdown",
      "source": [
        "4. Problem Statement 4: Implement Task 1 using Class.\n",
        "\n",
        "Design a JavaScript class called Person with properties for name and age. Implement a method to display the\n",
        "person's name and age. Then, create instances of Person and display their information."
      ],
      "metadata": {
        "id": "C_bmXrx2xmbR"
      }
    },
    {
      "cell_type": "code",
      "source": [
        "class person{\n",
        "    constructor(name, age){\n",
        "        this.name = name;\n",
        "        this.age = age;\n",
        "    }\n",
        "\n",
        "    display(){\n",
        "        console.log(\"Name:\",this.name ,\"Age:\", this.age);\n",
        "    }\n",
        "}\n",
        "\n",
        "const p1 = new person(\"Ayush\", 24);\n",
        "\n",
        "console.log(p1);"
      ],
      "metadata": {
        "id": "kJRujO7CxqtZ"
      },
      "execution_count": null,
      "outputs": []
    },
    {
      "cell_type": "markdown",
      "source": [
        "5. Problem Statement 5: Implement a Calculator Class\n",
        "\n",
        "Create a class called Calculator that initializes two values value1 and value2 to store numbers. Add methods for\n",
        "add, subtract, multiply, and divide. Perform and show operations."
      ],
      "metadata": {
        "id": "LgpLA1Czxz91"
      }
    },
    {
      "cell_type": "code",
      "source": [
        "class Calculator {\n",
        "    constructor(value1, value2){\n",
        "        this.value1 = value1;\n",
        "        this.value2 = value2;\n",
        "    }\n",
        "\n",
        "     add(){\n",
        "        return this.value1 + this.value2;\n",
        "     }\n",
        "\n",
        "      subtract(){\n",
        "        return this.value1 - this.value2;\n",
        "     }\n",
        "\n",
        "\n",
        "      multiply(){\n",
        "        return this.value1 * this.value2;\n",
        "     }\n",
        "\n",
        "\n",
        "      divide(){\n",
        "        if(this.value2 === 0){\n",
        "            throw new Error(\"Division by zero is not allowed.\");\n",
        "        }\n",
        "        return this.value1 / this.value2;\n",
        "     }\n",
        "\n",
        "\n",
        "}\n",
        "\n",
        "const calc = new Calculator(12, 4);\n",
        "console.log(\"Add:\", calc.add());\n",
        "console.log(\"Subtract:\", calc.subtract());\n",
        "console.log(\"Multiply:\", calc.multiply());\n",
        "console.log(\"Divide:\", calc.divide());"
      ],
      "metadata": {
        "id": "CLaYMxPCx3Um"
      },
      "execution_count": null,
      "outputs": []
    },
    {
      "cell_type": "markdown",
      "source": [
        "6. Problem Statement 6: Design a Class for a Geometric Shape\n",
        "\n",
        "Design a class called Shape that can represent various geometric shapes. Implement subclasses for specific\n",
        "shapes like Circle, Rectangle, and RightTriangle. Each subclass should have properties of that shape (e.g..\n",
        "Width, height for a rectangle) and methods for calculating the area and perimeter of the shape. Create\n",
        "instances of these shapes and calculate their areas and perimeters."
      ],
      "metadata": {
        "id": "Zz8Iz1w2x5xx"
      }
    },
    {
      "cell_type": "code",
      "source": [
        "class Shape {\n",
        "  area() {\n",
        "    throw new Error(\"Method 'area()' must be implemented.\");\n",
        "  }\n",
        "\n",
        "  perimeter() {\n",
        "    throw new Error(\"Method 'perimeter()' must be implemented.\");\n",
        "  }\n",
        "}\n",
        "\n",
        "// Circle subclass\n",
        "class Circle extends Shape {\n",
        "  constructor(radius) {\n",
        "    super(); // call Shape constructor\n",
        "    this.radius = radius;\n",
        "  }\n",
        "\n",
        "  area() {\n",
        "    return Math.PI * this.radius * this.radius;\n",
        "  }\n",
        "\n",
        "  perimeter() {\n",
        "    return 2 * Math.PI * this.radius;\n",
        "  }\n",
        "}\n",
        "\n",
        "class Rectangle extends Shape {\n",
        "  constructor(width, height) {\n",
        "    super();\n",
        "    this.width = width;\n",
        "    this.height = height;\n",
        "  }\n",
        "\n",
        "  area() {\n",
        "    return this.height * this.width;\n",
        "  }\n",
        "  perimeter() {\n",
        "    return 2 * (this.width * this.height);\n",
        "  }\n",
        "}\n",
        "\n",
        "class RightTriangle extends Shape {\n",
        "    constructor(base, height){\n",
        "        super();\n",
        "        this.base = base;\n",
        "        this.height = height;\n",
        "        this.hypotenuse = Math.sqrt(base ** 2 + height ** 2);\n",
        "    }\n",
        "\n",
        "    area(){\n",
        "        return 0.5 * this.base*this.height;\n",
        "    }\n",
        "\n",
        "    perimeter(){\n",
        "        return this.base + this.height + this.hypotenuse;\n",
        "    }\n",
        "}\n",
        "\n",
        "const circle = new Circle(5);\n",
        "console.log(\"=== Circle ===\")\n",
        "console.log(\"Area:\",circle.area().toFixed(2));\n",
        "console.log(\"Perimeter:\",circle.perimeter().toFixed(2));\n",
        "\n",
        "const rectangle = new Rectangle(5, 7);\n",
        "console.log(\"\\n=== Rectangle ===\");\n",
        "console.log(\"Area:\", rectangle.area());\n",
        "console.log(\"Perimeter:\", rectangle.perimeter());\n",
        "\n",
        "const righttriangle = new RightTriangle(3, 4);\n",
        "console.log(\"\\n=== Right Triangle ===\");\n",
        "console.log(\"Area:\", righttriangle.area());\n",
        "console.log(\"Perimeter:\", righttriangle.perimeter());"
      ],
      "metadata": {
        "id": "FFyOrVBWyAHo"
      },
      "execution_count": null,
      "outputs": []
    },
    {
      "cell_type": "markdown",
      "source": [
        "7. Problem Statement 7: Implement a Library System\n",
        "\n",
        "Create a class called Library that can manage a collection of books. Each book should be represented as an\n",
        "instance of a Book class (with properties like title, author, and availability). Implement methods in the Library\n",
        "class to add books, check out books, and return books. Keep track of the books available."
      ],
      "metadata": {
        "id": "E37NJ2IlyCti"
      }
    },
    {
      "cell_type": "code",
      "source": [
        "// Book class\n",
        "class Book {\n",
        "    constructor(title, author) {\n",
        "        this.title = title;\n",
        "        this.author = author;\n",
        "        this.isAvailable = true; // true = available, false = checked out\n",
        "    }\n",
        "\n",
        "    toString() {\n",
        "        return `${this.title} by ${this.author} - ${this.isAvailable ? \"Available\" : \"Checked Out\"}`;\n",
        "    }\n",
        "}\n",
        "\n",
        "// Library class\n",
        "class Library {\n",
        "    constructor() {\n",
        "        this.books = []; // Array to store Book objects\n",
        "    }\n",
        "\n",
        "    addBook(book) {\n",
        "        this.books.push(book);\n",
        "        console.log(`Book \"${book.title}\" added to the library.`);\n",
        "    }\n",
        "\n",
        "    checkoutBook(title) {\n",
        "        const book = this.books.find(b => b.title.toLowerCase() === title.toLowerCase());\n",
        "        if (!book) {\n",
        "            console.log(`Book \"${title}\" not found in the library.`);\n",
        "            return;\n",
        "        }\n",
        "        if (book.isAvailable) {\n",
        "            book.isAvailable = false;\n",
        "            console.log(`You have checked out \"${book.title}\".`);\n",
        "        } else {\n",
        "            console.log(`Sorry, \"${book.title}\" is already checked out.`);\n",
        "        }\n",
        "    }\n",
        "\n",
        "    returnBook(title) {\n",
        "        const book = this.books.find(b => b.title.toLowerCase() === title.toLowerCase());\n",
        "        if (!book) {\n",
        "            console.log(`Book \"${title}\" not found in the library.`);\n",
        "            return;\n",
        "        }\n",
        "        if (!book.isAvailable) {\n",
        "            book.isAvailable = true;\n",
        "            console.log(`You have returned \"${book.title}\".`);\n",
        "        } else {\n",
        "            console.log(`\"${book.title}\" was not checked out.`);\n",
        "        }\n",
        "    }\n",
        "\n",
        "    displayBooks() {\n",
        "        if (this.books.length === 0) {\n",
        "            console.log(\"No books in the library.\");\n",
        "            return;\n",
        "        }\n",
        "        console.log(\"\\nLibrary Collection:\");\n",
        "        this.books.forEach(book => console.log(book.toString()));\n",
        "    }\n",
        "}\n",
        "\n",
        "// Example usage\n",
        "const library = new Library();\n",
        "\n",
        "// Adding books\n",
        "library.addBook(new Book(\"The Great Gatsby\", \"F. Scott Fitzgerald\"));\n",
        "library.addBook(new Book(\"To Kill a Mockingbird\", \"Harper Lee\"));\n",
        "\n",
        "// Display books\n",
        "library.displayBooks();\n",
        "\n",
        "// Checkout a book\n",
        "library.checkoutBook(\"The Great Gatsby\");\n",
        "library.displayBooks();\n",
        "\n",
        "// Return a book\n",
        "library.returnBook(\"The Great Gatsby\");\n",
        "library.displayBooks();\n"
      ],
      "metadata": {
        "id": "KRYGDjanyGAS"
      },
      "execution_count": null,
      "outputs": []
    }
  ]
}